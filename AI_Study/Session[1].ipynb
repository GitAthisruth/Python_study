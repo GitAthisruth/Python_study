{
 "cells": [
  {
   "cell_type": "markdown",
   "metadata": {},
   "source": [
    "Data Structures\n",
    "\n",
    "1. It is used to store data.\n",
    "2. It is used to maintain space(memory) and time for the programs to efficiently run.\n",
    "3. Linked list is the fundamental data structure.\n",
    "\n",
    "Linked List\n",
    "\n",
    "1. The elements in a linked list is called nodes.\n",
    "2. A node in a linked list contains the element value and the reference of next node.\n",
    "3. A linked list contains a series of nodes and it is sequential.\n",
    "\n",
    "Stack \n",
    "\n",
    "1.Stack add elements from bottom to top.In stack elements arranged from bottom to top. \n",
    "2.If we want to delete or insert an element in the middle or bottom part of a stack we need to pop the top elements first to another stack and insert(push) or delete the respected element and then append the safe stack.\n",
    "\n",
    "\n",
    "Queue\n",
    "\n",
    "1. In queue the priority of elements from 1st element to the last element.\n",
    "2.In queue the pop(delete) means dequeue and insert(push) means enqueue.\n",
    "3.Here the dequeue operation start from first element and enqueue done the last element.\n"
   ]
  }
 ],
 "metadata": {
  "language_info": {
   "name": "python"
  }
 },
 "nbformat": 4,
 "nbformat_minor": 2
}
